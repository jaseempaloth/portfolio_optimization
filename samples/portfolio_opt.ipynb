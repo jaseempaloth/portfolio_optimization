{
 "cells": [
  {
   "cell_type": "code",
   "id": "initial_id",
   "metadata": {
    "collapsed": true,
    "ExecuteTime": {
     "end_time": "2024-07-28T14:17:34.373834Z",
     "start_time": "2024-07-28T14:17:34.366499Z"
    }
   },
   "source": [
    "import pathlib\n",
    "import pandas as pd\n",
    "import numpy as np\n",
    "import matplotlib.pyplot as plt\n",
    "import scipy.optimize as sco\n",
    "\n",
    "from pprint import pprint\n",
    "from sklearn.preprocessing import StandardScaler\n",
    "\n",
    "# set display options for pandas\n",
    "pd.set_option('display.max_colwidth', None)\n",
    "pd.set_option('expand_frame_repr', False)\n"
   ],
   "outputs": [],
   "execution_count": 6
  },
  {
   "metadata": {
    "ExecuteTime": {
     "end_time": "2024-07-28T16:42:16.695950Z",
     "start_time": "2024-07-28T16:42:16.655221Z"
    }
   },
   "cell_type": "code",
   "source": [
    "# Define the symbols\n",
    "symbols = ['RELIANCE', 'HDFCBANK', 'TCS', 'BHARTIARTL', 'ITC', 'TATAMOTORS']\n",
    "\n",
    "# Calculate number of symbols\n",
    "number_of_symbols = len(symbols)\n",
    "\n",
    "# Initialize an empty list to store the price dataframes\n",
    "price_data_frames = []\n",
    "\n",
    "# Loop through each symbol and load the corresponding CSV file\n",
    "for i, symbol in enumerate(symbols):\n",
    "    csv_file_path = f'../data/{symbol}_stock.csv'\n",
    "    price_data_frame = pd.read_csv(csv_file_path) # Do not skip the header for the first file\n",
    "    \n",
    "    price_data_frame['Symbol'] = symbol # Add a column to store the symbol\n",
    "    price_data_frames.append(price_data_frame)\n",
    "\n",
    "# Concatenate all the price dataframes into a single dataframe\n",
    "price_data_frame = pd.concat(price_data_frames, ignore_index=True)\n",
    "\n",
    "# Print the head of the combined dataframe\n",
    "price_data_frame.head()\n",
    "\n",
    " "
   ],
   "id": "e1fcc289ea824ee4",
   "outputs": [
    {
     "data": {
      "text/plain": [
       "         Date         Open         High          Low        Close    Adj Close    Volume    Symbol\n",
       "0  2019-07-29  1112.651489  1117.314575  1101.862305  1107.211182  1084.951050   8813022  RELIANCE\n",
       "1  2019-07-30  1109.954224  1115.485962  1075.209595  1079.735474  1058.027710  10426558  RELIANCE\n",
       "2  2019-07-31  1075.026733  1083.484253  1062.820313  1066.340576  1044.902100  10614975  RELIANCE\n",
       "3  2019-08-01  1063.734619  1086.410156  1051.802612  1079.141235  1057.445435  11314111  RELIANCE\n",
       "4  2019-08-02  1074.980957  1095.599121  1062.546021  1082.889893  1067.488037  11883403  RELIANCE"
      ],
      "text/html": [
       "<div>\n",
       "<style scoped>\n",
       "    .dataframe tbody tr th:only-of-type {\n",
       "        vertical-align: middle;\n",
       "    }\n",
       "\n",
       "    .dataframe tbody tr th {\n",
       "        vertical-align: top;\n",
       "    }\n",
       "\n",
       "    .dataframe thead th {\n",
       "        text-align: right;\n",
       "    }\n",
       "</style>\n",
       "<table border=\"1\" class=\"dataframe\">\n",
       "  <thead>\n",
       "    <tr style=\"text-align: right;\">\n",
       "      <th></th>\n",
       "      <th>Date</th>\n",
       "      <th>Open</th>\n",
       "      <th>High</th>\n",
       "      <th>Low</th>\n",
       "      <th>Close</th>\n",
       "      <th>Adj Close</th>\n",
       "      <th>Volume</th>\n",
       "      <th>Symbol</th>\n",
       "    </tr>\n",
       "  </thead>\n",
       "  <tbody>\n",
       "    <tr>\n",
       "      <th>0</th>\n",
       "      <td>2019-07-29</td>\n",
       "      <td>1112.651489</td>\n",
       "      <td>1117.314575</td>\n",
       "      <td>1101.862305</td>\n",
       "      <td>1107.211182</td>\n",
       "      <td>1084.951050</td>\n",
       "      <td>8813022</td>\n",
       "      <td>RELIANCE</td>\n",
       "    </tr>\n",
       "    <tr>\n",
       "      <th>1</th>\n",
       "      <td>2019-07-30</td>\n",
       "      <td>1109.954224</td>\n",
       "      <td>1115.485962</td>\n",
       "      <td>1075.209595</td>\n",
       "      <td>1079.735474</td>\n",
       "      <td>1058.027710</td>\n",
       "      <td>10426558</td>\n",
       "      <td>RELIANCE</td>\n",
       "    </tr>\n",
       "    <tr>\n",
       "      <th>2</th>\n",
       "      <td>2019-07-31</td>\n",
       "      <td>1075.026733</td>\n",
       "      <td>1083.484253</td>\n",
       "      <td>1062.820313</td>\n",
       "      <td>1066.340576</td>\n",
       "      <td>1044.902100</td>\n",
       "      <td>10614975</td>\n",
       "      <td>RELIANCE</td>\n",
       "    </tr>\n",
       "    <tr>\n",
       "      <th>3</th>\n",
       "      <td>2019-08-01</td>\n",
       "      <td>1063.734619</td>\n",
       "      <td>1086.410156</td>\n",
       "      <td>1051.802612</td>\n",
       "      <td>1079.141235</td>\n",
       "      <td>1057.445435</td>\n",
       "      <td>11314111</td>\n",
       "      <td>RELIANCE</td>\n",
       "    </tr>\n",
       "    <tr>\n",
       "      <th>4</th>\n",
       "      <td>2019-08-02</td>\n",
       "      <td>1074.980957</td>\n",
       "      <td>1095.599121</td>\n",
       "      <td>1062.546021</td>\n",
       "      <td>1082.889893</td>\n",
       "      <td>1067.488037</td>\n",
       "      <td>11883403</td>\n",
       "      <td>RELIANCE</td>\n",
       "    </tr>\n",
       "  </tbody>\n",
       "</table>\n",
       "</div>"
      ]
     },
     "execution_count": 28,
     "metadata": {},
     "output_type": "execute_result"
    }
   ],
   "execution_count": 28
  },
  {
   "metadata": {},
   "cell_type": "code",
   "outputs": [],
   "execution_count": null,
   "source": "",
   "id": "f1ef7182a0bc5036"
  }
 ],
 "metadata": {
  "kernelspec": {
   "display_name": "Python 3",
   "language": "python",
   "name": "python3"
  },
  "language_info": {
   "codemirror_mode": {
    "name": "ipython",
    "version": 2
   },
   "file_extension": ".py",
   "mimetype": "text/x-python",
   "name": "python",
   "nbconvert_exporter": "python",
   "pygments_lexer": "ipython2",
   "version": "2.7.6"
  }
 },
 "nbformat": 4,
 "nbformat_minor": 5
}
